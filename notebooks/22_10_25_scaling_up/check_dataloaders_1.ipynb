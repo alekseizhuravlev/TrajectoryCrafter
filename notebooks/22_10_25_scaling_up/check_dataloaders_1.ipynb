{
 "cells": [
  {
   "cell_type": "code",
   "execution_count": null,
   "metadata": {},
   "outputs": [],
   "source": [
    "import sys\n",
    "sys.path.append('/home/azhuravl/work')\n",
    "\n",
    "import stereoanyvideo.datasets.video_datasets as video_datasets"
   ]
  },
  {
   "cell_type": "code",
   "execution_count": null,
   "metadata": {},
   "outputs": [],
   "source": [
    "import importlib\n",
    "importlib.reload(video_datasets)"
   ]
  },
  {
   "cell_type": "code",
   "execution_count": null,
   "metadata": {},
   "outputs": [],
   "source": [
    "dataset_driving = video_datasets.SequenceSceneFlowDatasetCamera(\n",
    "    aug_params=None,\n",
    "    root=\"/home/azhuravl/scratch/SceneFlow\",\n",
    "    dstype=\"frames_cleanpass\",\n",
    "    sample_len=59,\n",
    "    things_test=False,\n",
    "    add_things=False,\n",
    "    add_monkaa=False,\n",
    "    add_driving=True,\n",
    "    split=\"test\",\n",
    "    stride=5,\n",
    ")\n",
    "len(dataset_driving)"
   ]
  },
  {
   "cell_type": "code",
   "execution_count": null,
   "metadata": {},
   "outputs": [],
   "source": [
    "data_0 = dataset_driving[0]\n",
    "data_1 = dataset_driving[1]\n"
   ]
  },
  {
   "cell_type": "code",
   "execution_count": null,
   "metadata": {},
   "outputs": [],
   "source": [
    "import matplotlib.pyplot as plt\n",
    "# plot 0th frame of the first sequence and 2nd sequence\n",
    "plt.subplot(1, 2, 1)\n",
    "plt.imshow(data_0['img'][50][0].permute(1, 2, 0).int().numpy())\n",
    "# plt.imshow(data_0['img'][0][0].permute(1, 2, 0).int().numpy())\n",
    "plt.title('Sequence 0, Frame 0')\n",
    "plt.axis('off')\n",
    "\n",
    "plt.subplot(1, 2, 2)\n",
    "plt.imshow(data_1['img'][0][0].permute(1, 2, 0).int().numpy())\n",
    "plt.title('Sequence 1, Frame 0')\n",
    "plt.axis('off')\n",
    "\n",
    "plt.show()"
   ]
  },
  {
   "cell_type": "code",
   "execution_count": null,
   "metadata": {},
   "outputs": [],
   "source": [
    "data_0['img'].shape"
   ]
  },
  {
   "cell_type": "code",
   "execution_count": null,
   "metadata": {},
   "outputs": [],
   "source": [
    "import torch\n",
    "from pytorch3d.utils.camera_conversions import opencv_from_cameras_projection\n",
    "\n",
    "# If you have a PyTorch3D camera from your output_tensor\n",
    "viewpoint = data_0[\"viewpoint\"][0][0]  # First frame, left camera\n",
    "\n",
    "# Convert to OpenCV format\n",
    "# opencv_params = video_datasets.pytorch3d_to_opencv_camera_general(viewpoint, (540, 960))\n",
    "\n",
    "R, t, K = opencv_from_cameras_projection(\n",
    "    viewpoint,\n",
    "    image_size=torch.tensor([[540, 960]])\n",
    ")\n",
    "R = R[0]\n",
    "t = t[0]\n",
    "K = K[0]\n",
    "\n",
    "# Access the parameters\n",
    "# K = opencv_params['K']          # 3x3 intrinsic matrix\n",
    "# R = opencv_params['R']          # 3x3 rotation matrix\n",
    "# t = opencv_params['t']          # 3x1 translation vector\n",
    "# calculate depth from disparity using torch\n",
    "\n",
    "import torch\n",
    "disp = data_0['disp'][0][0]\n",
    "focal_length = K[0, 0]\n",
    "baseline = 1\n",
    "depth = -(focal_length * baseline) / disp"
   ]
  },
  {
   "cell_type": "code",
   "execution_count": null,
   "metadata": {},
   "outputs": [],
   "source": [
    "# plot rgb and disparity for the first frame\n",
    "import matplotlib.pyplot as plt\n",
    "plt.figure(figsize=(12,6))\n",
    "plt.subplot(1,3,1)\n",
    "plt.imshow(data_0['img'][0][0].permute(1, 2, 0).int().numpy())\n",
    "plt.title('RGB Frame 0')\n",
    "plt.axis('off')\n",
    "plt.subplot(1,3,2)\n",
    "plt.imshow(data_0['disp'][0][0].permute(1, 2, 0).numpy(), cmap='plasma')\n",
    "plt.title('Disparity Frame 0')\n",
    "plt.axis('off')\n",
    "plt.colorbar(fraction=0.03, pad=0.04)\n",
    "plt.subplot(1,3,3)\n",
    "plt.imshow(1 / depth.permute(1, 2, 0).numpy(), cmap='plasma')\n",
    "plt.title('Depth Frame 0')\n",
    "plt.axis('off')\n",
    "plt.colorbar(fraction=0.03, pad=0.04)\n",
    "plt.show()"
   ]
  },
  {
   "cell_type": "markdown",
   "metadata": {},
   "source": [
    "## VKITTI 2"
   ]
  },
  {
   "cell_type": "code",
   "execution_count": null,
   "metadata": {},
   "outputs": [],
   "source": [
    "import importlib\n",
    "importlib.reload(video_datasets)"
   ]
  },
  {
   "cell_type": "code",
   "execution_count": null,
   "metadata": {},
   "outputs": [],
   "source": [
    "dataset_vkitti = video_datasets.VKITTI2Dataset(\n",
    "    aug_params=None,\n",
    "    root=\"/home/azhuravl/scratch/vkitti2\",\n",
    "    split=\"train\",\n",
    "    sample_len=59,\n",
    "    only_first_n_samples=-1,\n",
    "    sampling_stride=8,          # Starting frame stride (default 3)\n",
    "    min_temporal_step=1,        # Minimum temporal step (default 1)  \n",
    "    max_temporal_step=1,        # Maximum temporal step (default 6)\n",
    ")"
   ]
  },
  {
   "cell_type": "code",
   "execution_count": null,
   "metadata": {},
   "outputs": [],
   "source": [
    "data_0 = dataset_vkitti[1000]"
   ]
  },
  {
   "cell_type": "code",
   "execution_count": null,
   "metadata": {},
   "outputs": [],
   "source": [
    "data_0.keys()"
   ]
  },
  {
   "cell_type": "code",
   "execution_count": null,
   "metadata": {},
   "outputs": [],
   "source": [
    "import torch\n",
    "\n",
    "sys.path.append('/home/azhuravl/work/TrajectoryCrafter/notebooks/15_10_25_depth')\n",
    "\n",
    "import collect_dataset\n",
    "\n",
    "frames_tensor, depths, poses_tensor, K_tensor = collect_dataset.extract_video_data(data_0)"
   ]
  },
  {
   "cell_type": "code",
   "execution_count": null,
   "metadata": {},
   "outputs": [],
   "source": [
    "sys.path.append('/home/azhuravl/work/TrajectoryCrafter')\n",
    "\n",
    "import models.utils as utils\n",
    "\n",
    "warper_old = utils.Warper(device='cuda')"
   ]
  },
  {
   "cell_type": "code",
   "execution_count": null,
   "metadata": {},
   "outputs": [],
   "source": [
    "from tqdm import tqdm\n",
    "\n",
    "warped_images = []\n",
    "masks = []\n",
    "warped_depths = []\n",
    "\n",
    "for i in tqdm(range(10, frames_tensor.shape[0])):\n",
    "    warped_frame2, mask2, warped_depth2, flow12 = warper_old.forward_warp(\n",
    "        frame1=frames_tensor[i:i+1],\n",
    "        mask1=None,\n",
    "        depth1=depths[i:i+1],\n",
    "        transformation1=poses_tensor[i:i+1],\n",
    "        transformation2=poses_tensor[10:11],\n",
    "        intrinsic1=K_tensor[i:i+1],\n",
    "        intrinsic2=K_tensor[i:i+1],\n",
    "        mask=False,\n",
    "        twice=True,\n",
    "    )\n",
    "    # print(warped_frame2[0])\n",
    "    warped_images.append(warped_frame2)\n",
    "    masks.append(mask2)\n",
    "    warped_depths.append(warped_depth2)\n",
    "    \n",
    "    # print(warped_frame2.shape, mask2.shape, warped_depth2.shape)"
   ]
  },
  {
   "cell_type": "code",
   "execution_count": null,
   "metadata": {},
   "outputs": [],
   "source": [
    "import numpy as np\n",
    "\n",
    "# plot warped image j, mask j, warped depth j\n",
    "j = 30\n",
    "\n",
    "frame = frames_tensor[j+10].cpu().permute(1, 2, 0).numpy() * 0.5 + 0.5\n",
    "warped_image = warped_images[j][0].cpu().permute(1, 2, 0).numpy() * 0.5 + 0.5\n",
    "\n",
    "plt.figure(figsize=(18,6))\n",
    "plt.subplot(1,3,1)\n",
    "plt.imshow(frame)\n",
    "plt.title('Warped Image to Frame {}'.format(j))\n",
    "plt.axis('off')\n",
    "plt.subplot(1,3,2)\n",
    "plt.imshow(warped_image)\n",
    "plt.title('Warped Image to Frame {}'.format(j))\n",
    "plt.axis('off')\n",
    "\n",
    "# plt.subplot(1,3,1)\n",
    "# plt.imshow(depths[10+j].cpu().permute(1, 2, 0).numpy(), cmap='plasma')\n",
    "# plt.title('Warped Image to Frame {}'.format(j))\n",
    "# plt.axis('off')\n",
    "# plt.colorbar()\n",
    "\n",
    "# plt.subplot(1,3,2)\n",
    "# plt.imshow((warped_depths[j][0].cpu().permute(1, 2, 0).numpy() + 1e-2), cmap='plasma')\n",
    "# plt.title('Warped Image to Frame {}'.format(j))\n",
    "# plt.axis('off')\n",
    "# plt.colorbar()\n",
    "\n",
    "plt.subplot(1,3,3)\n",
    "plt.imshow(masks[j][0].cpu().permute(1, 2, 0).numpy() * 0.5 + 0.5, cmap='gray')\n",
    "plt.title('Mask')\n",
    "plt.axis('off')\n",
    "plt.show()\n"
   ]
  },
  {
   "cell_type": "code",
   "execution_count": null,
   "metadata": {},
   "outputs": [],
   "source": [
    "from models.utils import save_video\n",
    "import os\n",
    "\n",
    "def make_dimensions_even(tensor):\n",
    "    \"\"\"Pad tensor to make height and width even numbers\"\"\"\n",
    "    _, h, w, c = tensor.shape\n",
    "    pad_h = h % 2\n",
    "    pad_w = w % 2\n",
    "    \n",
    "    if pad_h > 0 or pad_w > 0:\n",
    "        # Pad bottom and right if needed\n",
    "        tensor = torch.nn.functional.pad(tensor, (0, 0, 0, pad_w, 0, pad_h))\n",
    "    \n",
    "    return tensor\n",
    "\n",
    "\n",
    "cond_video = (torch.cat(warped_images) + 1.0) / 2.0  # [T, 3, H, W] in [0,1]\n",
    "cond_video_padded = make_dimensions_even(\n",
    "    cond_video.permute(0, 2, 3, 1)\n",
    ")\n",
    "\n",
    "save_video(\n",
    "    cond_video_padded,\n",
    "    '/home/azhuravl/work/TrajectoryCrafter/notebooks/22_10_25_scaling_up/warped_video.mp4',\n",
    "    fps=10,\n",
    ")\n",
    "# --- save inputs for visualization ---\n",
    "\n",
    "input_video_padded = make_dimensions_even(\n",
    "    (frames_tensor[10:].permute(0, 2, 3, 1) + 1.0) / 2.0\n",
    ")\n",
    "\n",
    "save_video(\n",
    "    input_video_padded,\n",
    "    '/home/azhuravl/work/TrajectoryCrafter/notebooks/22_10_25_scaling_up/input_video.mp4',\n",
    "    fps=10,\n",
    ")\n",
    "\n",
    "# Apply before saving\n",
    "warped_depths_padded = make_dimensions_even(\n",
    "    (warped_depths_tensor.permute(0, 2, 3, 1).repeat(1, 1, 1, 3)) / warped_depths_tensor.max()\n",
    ")\n",
    "save_video(\n",
    "    warped_depths_padded,\n",
    "    '/home/azhuravl/work/TrajectoryCrafter/notebooks/22_10_25_scaling_up/warped_depths.mp4',\n",
    "    fps=10,\n",
    ")\n",
    "\n",
    "depths_padded = make_dimensions_even(\n",
    "    (depths.permute(0, 2, 3, 1).repeat(1, 1, 1, 3)) / depths.max()\n",
    ")\n",
    "save_video(\n",
    "    depths_padded,\n",
    "    '/home/azhuravl/work/TrajectoryCrafter/notebooks/22_10_25_scaling_up/input_depths.mp4',\n",
    "    fps=10,\n",
    ")"
   ]
  },
  {
   "cell_type": "code",
   "execution_count": null,
   "metadata": {},
   "outputs": [],
   "source": []
  },
  {
   "cell_type": "code",
   "execution_count": null,
   "metadata": {},
   "outputs": [],
   "source": [
    "sys.path.append('/home/azhuravl/work/TrajectoryCrafter/notebooks/06_10_25_vggt')\n",
    "from parsing import get_parser\n",
    "import utils_autoregressive as utils_ar\n",
    "from datetime import datetime\n",
    "import os\n",
    "import copy\n",
    "\n",
    "\n",
    "sys.argv = [\n",
    "    \"\",\n",
    "    \"--video_path\", \"/home/azhuravl/nobackup/DAVIS_testing/trainval/monkaa.mp4\",\n",
    "    \"--n_splits\", \"4\",\n",
    "    \"--overlap_frames\", \"0\",\n",
    "    \"--radius\", \"0\",\n",
    "    \"--mode\", \"gradual\",\n",
    "]\n",
    "\n",
    "parser = get_parser()\n",
    "opts_base = parser.parse_args()\n",
    "\n",
    "timestamp = datetime.now().strftime(\"%Y%m%d_%H%M\")\n",
    "video_basename = os.path.splitext(os.path.basename(opts_base.video_path))[0]\n",
    "\n",
    "# Setup\n",
    "opts_base.weight_dtype = torch.bfloat16\n",
    "opts_base.exp_name = f\"{video_basename}_{timestamp}_autoregressive\"\n",
    "opts_base.save_dir = os.path.join(opts_base.out_dir, opts_base.exp_name)\n",
    "\n",
    "# Create TrajCrafterVisualization instance for autoregressive generation\n",
    "radius = opts_base.radius\n",
    "\n",
    "variants = [\n",
    "    (\"right_90\", [0, 90, radius, 0, 0]),\n",
    "]\n",
    "\n",
    "pose = [90, 0, 0, 0, 1]\n",
    "name = f\"{pose[0]}_{pose[1]}_{pose[2]}_{pose[3]}_{pose[4]}\"\n",
    "\n",
    "opts = copy.deepcopy(opts_base)\n",
    "opts.exp_name = f\"{video_basename}_{timestamp}_{name}_auto_s{opts_base.n_splits}\"\n",
    "opts.save_dir = os.path.join(opts.out_dir, opts.exp_name)\n",
    "opts.camera = \"target\"\n",
    "opts.target_pose = pose\n",
    "opts.traj_txt = 'test/trajs/loop2.txt'\n",
    "\n",
    "# Make directories\n",
    "os.makedirs(opts.save_dir, exist_ok=True)"
   ]
  },
  {
   "cell_type": "code",
   "execution_count": null,
   "metadata": {},
   "outputs": [],
   "source": [
    "trajcrafter = utils_ar.TrajCrafterAutoregressive(opts)"
   ]
  },
  {
   "cell_type": "code",
   "execution_count": null,
   "metadata": {},
   "outputs": [],
   "source": [
    "import numpy as np\n",
    "\n",
    "# frames_tensor = (\n",
    "    # torch.from_numpy(frames_np).permute(0, 3, 1, 2).to(opts.device) * 2.0 - 1.0\n",
    "  # 49 576 1024 3 -> 49 3 576 1024, [-1,1]\n",
    "# reverse this to get frames in numpy\n",
    "frames_np = ((frames_tensor.cpu().permute(0, 2, 3, 1).numpy() + 1.0) / 2.0).astype(np.float32)\n",
    "\n",
    "trajcrafter.prompt = trajcrafter.get_caption(opts, frames_np[opts.video_length // 2])\n",
    "print(trajcrafter.prompt)"
   ]
  },
  {
   "cell_type": "code",
   "execution_count": null,
   "metadata": {},
   "outputs": [],
   "source": [
    "_, segment_dir = utils_ar.sample_diffusion(\n",
    "    trajcrafter,\n",
    "    frames_tensor[10:],\n",
    "    warped_images,\n",
    "    frames_tensor[:10],\n",
    "    masks,\n",
    "    opts,\n",
    ")"
   ]
  },
  {
   "cell_type": "markdown",
   "metadata": {},
   "source": [
    "## TartanAir"
   ]
  },
  {
   "cell_type": "code",
   "execution_count": null,
   "metadata": {},
   "outputs": [],
   "source": [
    "import importlib\n",
    "importlib.reload(video_datasets)"
   ]
  },
  {
   "cell_type": "code",
   "execution_count": null,
   "metadata": {},
   "outputs": [],
   "source": [
    "dataset_tartanair = video_datasets.TartanAirDataset(\n",
    "        aug_params=None,\n",
    "        root=\"/home/azhuravl/scratch/tartanair\",\n",
    "        split=\"train\",\n",
    "        sample_len=-1,\n",
    "        only_first_n_samples=-1,\n",
    "        sampling_stride=3,          # Starting frame stride (default 3)\n",
    "        min_temporal_step=1,        # Minimum temporal step (default 1)  \n",
    "        max_temporal_step=1,        # Maximum temporal step (default 6)\n",
    "        test_keywords=None,         # Keywords to identify test sequences\n",
    "    )"
   ]
  },
  {
   "cell_type": "code",
   "execution_count": null,
   "metadata": {},
   "outputs": [],
   "source": []
  }
 ],
 "metadata": {
  "kernelspec": {
   "display_name": "Python 3 (ipykernel)",
   "language": "python",
   "name": "python3"
  }
 },
 "nbformat": 4,
 "nbformat_minor": 4
}
