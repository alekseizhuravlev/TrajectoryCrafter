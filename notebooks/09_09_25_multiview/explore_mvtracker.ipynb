{
 "cells": [
  {
   "cell_type": "code",
   "execution_count": null,
   "metadata": {},
   "outputs": [],
   "source": [
    "import sys\n",
    "\n",
    "sys.path.append('/home/azhuravl/work/mvtracker')\n",
    "\n",
    "# work/mvtracker/mvtracker/datasets/panoptic_studio_multiview_dataset.py\n",
    "\n",
    "from mvtracker.datasets.panoptic_studio_multiview_dataset import PanopticStudioMultiViewDataset"
   ]
  },
  {
   "cell_type": "code",
   "execution_count": null,
   "metadata": {},
   "outputs": [],
   "source": [
    "# dataset = PanopticStudioMultiViewDataset(\n",
    "#     '/home/azhuravl/nobackup/mvtracker_data/panoptic_studio/datasets/panoptic-multiview',\n",
    "#     \"traj_per_sample\": 384, \"seed\": 72,\n",
    "#     \"max_videos\": 1, \"perform_sanity_checks\": False, \"views_to_return\": [1, 7, 14, 20],\n",
    "#     \"use_duster_depths\": False, \"clean_duster_depths\": False,\n",
    "# )\n",
    "\n",
    "dataset = PanopticStudioMultiViewDataset(\n",
    "    '/home/azhuravl/nobackup/mvtracker_data/panoptic_studio/datasets/panoptic-multiview',\n",
    "    traj_per_sample=384, seed=72,\n",
    "    max_videos=1, perform_sanity_checks=False, views_to_return=[1, 7, 14, 20],\n",
    "    use_duster_depths=False, clean_duster_depths=False,\n",
    ")"
   ]
  },
  {
   "cell_type": "code",
   "execution_count": null,
   "metadata": {},
   "outputs": [],
   "source": [
    "data = dataset[0]"
   ]
  },
  {
   "cell_type": "code",
   "execution_count": null,
   "metadata": {},
   "outputs": [],
   "source": [
    "# vars(data[0]).keys()\n",
    "\n",
    "# print each variable name and the size of the tensor, dtype\n",
    "for k, v in vars(data[0]).items():\n",
    "    if hasattr(v, 'shape'):\n",
    "        print(f\"{k}: {v.shape}, {v.dtype}\")\n",
    "    else:\n",
    "        print(f\"{k}: {type(v)}\")"
   ]
  },
  {
   "cell_type": "code",
   "execution_count": null,
   "metadata": {},
   "outputs": [],
   "source": [
    "import imageio\n",
    "import numpy as np\n",
    "\n",
    "def save_video_tensor_imageio(video_tensor, output_path, fps=15):\n",
    "    \"\"\"Save video tensor using imageio (more reliable)\"\"\"\n",
    "    video_np = video_tensor.permute(0, 2, 3, 1).cpu().numpy()\n",
    "    \n",
    "    print(f\"Original video range: [{video_np.min():.3f}, {video_np.max():.3f}]\")\n",
    "    \n",
    "    # Normalize to [0, 255] and convert to uint8\n",
    "    if video_np.max() <= 1.0 and video_np.min() >= 0.0:\n",
    "        video_np = (video_np * 255).astype(np.uint8)\n",
    "    elif video_np.min() >= -1.0 and video_np.max() <= 1.0:\n",
    "        video_np = ((video_np + 1.0) / 2.0 * 255).astype(np.uint8)\n",
    "    else:\n",
    "        video_np = (video_np - video_np.min()) / (video_np.max() - video_np.min())\n",
    "        video_np = (video_np * 255).astype(np.uint8)\n",
    "    \n",
    "    print(f\"Converted range: [{video_np.min()}, {video_np.max()}]\")\n",
    "    print(f\"Shape: {video_np.shape}\")\n",
    "    \n",
    "    # Save with imageio\n",
    "    imageio.mimsave(output_path, video_np, fps=fps)\n",
    "    print(f\"Video saved to: {output_path}\")\n",
    "\n",
    "# Try with imageio\n",
    "# save_video_tensor_imageio(\n",
    "#     data[0].video[0],\n",
    "#     '/home/azhuravl/work/TrajectoryCrafter/notebooks/09_09_25_multiview/mvtracker_video.mp4',\n",
    "#     fps=15\n",
    "#     )\n",
    "\n",
    "save_video_tensor_imageio(\n",
    "    data[0].videodepth[0],\n",
    "    '/home/azhuravl/work/TrajectoryCrafter/notebooks/09_09_25_multiview/mvtracker_videodepth.mp4',\n",
    "    fps=15\n",
    "    )"
   ]
  },
  {
   "cell_type": "code",
   "execution_count": null,
   "metadata": {},
   "outputs": [],
   "source": [
    "print(\"intrs\", data[0].intrs[0])\n",
    "print(\"extrs\", data[0].extrs[0])"
   ]
  }
 ],
 "metadata": {
  "kernelspec": {
   "display_name": "Python 3 (ipykernel)",
   "language": "python",
   "name": "python3"
  },
  "language_info": {
   "codemirror_mode": {
    "name": "ipython",
    "version": 3
   },
   "file_extension": ".py",
   "mimetype": "text/x-python",
   "name": "python",
   "nbconvert_exporter": "python",
   "pygments_lexer": "ipython3",
   "version": "3.10.18"
  }
 },
 "nbformat": 4,
 "nbformat_minor": 2
}
